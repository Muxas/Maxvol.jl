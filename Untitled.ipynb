{
 "cells": [
  {
   "cell_type": "code",
   "execution_count": 3,
   "metadata": {},
   "outputs": [
    {
     "ename": "ArgumentError",
     "evalue": "ArgumentError: Package Maxvol not found in current path:\n- Run `import Pkg; Pkg.add(\"Maxvol\")` to install the Maxvol package.\n",
     "output_type": "error",
     "traceback": [
      "ArgumentError: Package Maxvol not found in current path:\n- Run `import Pkg; Pkg.add(\"Maxvol\")` to install the Maxvol package.\n",
      "",
      "Stacktrace:",
      " [1] require(::Module, ::Symbol) at ./loading.jl:876",
      " [2] top-level scope at In[3]:1"
     ]
    }
   ],
   "source": [
    "# Include definitions from maxvol.jl\n",
    "#include(\"maxvol.jl\")\n",
    "using Maxvol"
   ]
  },
  {
   "cell_type": "code",
   "execution_count": 2,
   "metadata": {},
   "outputs": [
    {
     "name": "stdout",
     "output_type": "stream",
     "text": [
      "BigFloat\n"
     ]
    },
    {
     "ename": "UndefVarError",
     "evalue": "UndefVarError: maxvol_generic! not defined",
     "output_type": "error",
     "traceback": [
      "UndefVarError: maxvol_generic! not defined",
      "",
      "Stacktrace:",
      " [1] top-level scope at ./In[2]:6"
     ]
    }
   ],
   "source": [
    "# Check generic maxvol for any kind of input matrices\n",
    "for T in [BigFloat, Float64, Float32, Float16, Complex{BigFloat}, ComplexF64, ComplexF32, ComplexF16]\n",
    "    println(T)\n",
    "    A = rand(T, 300, 30)\n",
    "    B = deepcopy(A)\n",
    "    basis = maxvol_generic!(B, 1.05, 100)\n",
    "    X = B*A[basis, :] - A\n",
    "    println(\"relative error \", (+(abs.(X).^2...) / +(abs.(A).^2...))^0.5)\n",
    "    print(\"time\")\n",
    "    @time maxvol_generic!(deepcopy(A), 1.05, 100)\n",
    "    println()\n",
    "end"
   ]
  },
  {
   "cell_type": "code",
   "execution_count": 3,
   "metadata": {},
   "outputs": [
    {
     "name": "stdout",
     "output_type": "stream",
     "text": [
      "Float64\n",
      "maxvol_generic relative error 6.119041832615241e-16\n",
      "maxvol_generic time  0.000559 seconds (163 allocations: 256.594 KiB)\n",
      "maxvol relative error 5.554619415039839e-16\n",
      "maxvol time  0.000194 seconds (47 allocations: 95.188 KiB)\n",
      "\n",
      "Float32\n",
      "maxvol_generic relative error 4.226318248785488e-7\n",
      "maxvol_generic time  0.001131 seconds (199 allocations: 171.281 KiB)\n",
      "maxvol relative error 4.2713309870240647e-7\n",
      "maxvol time  0.000385 seconds (95 allocations: 87.875 KiB)\n",
      "\n",
      "Complex{Float64}\n",
      "maxvol_generic relative error 1.0797461449951494e-15\n",
      "maxvol_generic time  0.001305 seconds (231 allocations: 583.813 KiB)\n",
      "maxvol relative error 8.578021088433953e-16\n",
      "maxvol time  0.000693 seconds (59 allocations: 204.344 KiB)\n",
      "\n",
      "Complex{Float32}\n",
      "maxvol_generic relative error 5.233702981007001e-7\n",
      "maxvol_generic time  0.001621 seconds (184 allocations: 298.234 KiB)\n",
      "maxvol relative error 5.123474420477829e-7\n",
      "maxvol time  0.000632 seconds (59 allocations: 112.156 KiB)\n",
      "\n"
     ]
    }
   ],
   "source": [
    "# Check LAPACK-based maxvol for matrices of 4 default precisions (s, d, c and z)\n",
    "for T in [Float64, Float32, ComplexF64, ComplexF32]\n",
    "    println(T)\n",
    "    A = rand(T, 300, 30)\n",
    "    B = deepcopy(A)\n",
    "    basis = maxvol_generic!(B, 1.05, 100)\n",
    "    X = B*A[basis, :] - A\n",
    "    println(\"maxvol_generic relative error \", (+(abs.(X).^2...) / +(abs.(A).^2...))^0.5)\n",
    "    print(\"maxvol_generic time\")\n",
    "    @time maxvol_generic!(deepcopy(A), 1.05, 100)\n",
    "    B = deepcopy(A)\n",
    "    basis = maxvol!(B, 1.05, 100)\n",
    "    X = B*A[basis, :] - A\n",
    "    println(\"maxvol relative error \", (+(abs.(X).^2...) / +(abs.(A).^2...))^0.5)\n",
    "    print(\"maxvol time\")\n",
    "    @time maxvol!(deepcopy(A), 1.05, 100)\n",
    "    println()\n",
    "end"
   ]
  },
  {
   "cell_type": "code",
   "execution_count": 4,
   "metadata": {},
   "outputs": [
    {
     "data": {
      "text/html": [
       "3 methods for generic function <b>maxvol_generic!</b>:<ul><li> maxvol_generic!(A::<b>Array{T,2}</b>)<i> where T</i> in Main at <a href=\"file:///Users/mikhalev/Code/maxvoljl/maxvol.jl\" target=\"_blank\">/Users/mikhalev/Code/maxvoljl/maxvol.jl:12</a></li> <li> maxvol_generic!(A::<b>Array{T,2}</b>, tol::<b>Float64</b>)<i> where T</i> in Main at <a href=\"file:///Users/mikhalev/Code/maxvoljl/maxvol.jl\" target=\"_blank\">/Users/mikhalev/Code/maxvoljl/maxvol.jl:12</a></li> <li> maxvol_generic!(A::<b>Array{T,2}</b>, tol::<b>Float64</b>, maxiters::<b>Int64</b>)<i> where T</i> in Main at <a href=\"file:///Users/mikhalev/Code/maxvoljl/maxvol.jl\" target=\"_blank\">/Users/mikhalev/Code/maxvoljl/maxvol.jl:12</a></li> </ul>"
      ],
      "text/plain": [
       "# 3 methods for generic function \"maxvol_generic!\":\n",
       "[1] maxvol_generic!(A::Array{T,2}) where T in Main at /Users/mikhalev/Code/maxvoljl/maxvol.jl:12\n",
       "[2] maxvol_generic!(A::Array{T,2}, tol::Float64) where T in Main at /Users/mikhalev/Code/maxvoljl/maxvol.jl:12\n",
       "[3] maxvol_generic!(A::Array{T,2}, tol::Float64, maxiters::Int64) where T in Main at /Users/mikhalev/Code/maxvoljl/maxvol.jl:12"
      ]
     },
     "execution_count": 4,
     "metadata": {},
     "output_type": "execute_result"
    }
   ],
   "source": [
    "methods(maxvol_generic!)"
   ]
  },
  {
   "cell_type": "code",
   "execution_count": 5,
   "metadata": {},
   "outputs": [
    {
     "data": {
      "text/html": [
       "3 methods for generic function <b>maxvol!</b>:<ul><li> maxvol!(A::<b>Array{T,2}</b>)<i> where T<:Union{Complex{Float32}, Complex{Float64}, Float32, Float64}</i> in Main at <a href=\"file:///Users/mikhalev/Code/maxvoljl/maxvol.jl\" target=\"_blank\">/Users/mikhalev/Code/maxvoljl/maxvol.jl:118</a></li> <li> maxvol!(A::<b>Array{T,2}</b>, tol::<b>Float64</b>)<i> where T<:Union{Complex{Float32}, Complex{Float64}, Float32, Float64}</i> in Main at <a href=\"file:///Users/mikhalev/Code/maxvoljl/maxvol.jl\" target=\"_blank\">/Users/mikhalev/Code/maxvoljl/maxvol.jl:118</a></li> <li> maxvol!(A::<b>Array{T,2}</b>, tol::<b>Float64</b>, maxiters::<b>Int64</b>)<i> where T<:Union{Complex{Float32}, Complex{Float64}, Float32, Float64}</i> in Main at <a href=\"file:///Users/mikhalev/Code/maxvoljl/maxvol.jl\" target=\"_blank\">/Users/mikhalev/Code/maxvoljl/maxvol.jl:118</a></li> </ul>"
      ],
      "text/plain": [
       "# 3 methods for generic function \"maxvol!\":\n",
       "[1] maxvol!(A::Array{T,2}) where T<:Union{Complex{Float32}, Complex{Float64}, Float32, Float64} in Main at /Users/mikhalev/Code/maxvoljl/maxvol.jl:118\n",
       "[2] maxvol!(A::Array{T,2}, tol::Float64) where T<:Union{Complex{Float32}, Complex{Float64}, Float32, Float64} in Main at /Users/mikhalev/Code/maxvoljl/maxvol.jl:118\n",
       "[3] maxvol!(A::Array{T,2}, tol::Float64, maxiters::Int64) where T<:Union{Complex{Float32}, Complex{Float64}, Float32, Float64} in Main at /Users/mikhalev/Code/maxvoljl/maxvol.jl:118"
      ]
     },
     "execution_count": 5,
     "metadata": {},
     "output_type": "execute_result"
    }
   ],
   "source": [
    "methods(maxvol!)"
   ]
  },
  {
   "cell_type": "code",
   "execution_count": 4,
   "metadata": {},
   "outputs": [],
   "source": [
    "using Pkg"
   ]
  },
  {
   "cell_type": "code",
   "execution_count": 5,
   "metadata": {},
   "outputs": [
    {
     "name": "stdout",
     "output_type": "stream",
     "text": [
      "\u001b[32m\u001b[1m  Updating\u001b[22m\u001b[39m registry at `~/.julia/registries/General`\n",
      "\u001b[32m\u001b[1m  Updating\u001b[22m\u001b[39m git-repo `https://github.com/JuliaRegistries/General.git`\n",
      "\u001b[2K\u001b[?25h[1mFetching:\u001b[22m\u001b[39m [========================================>]  100.0 %.0 %\u001b[36m\u001b[1mFetching:\u001b[22m\u001b[39m [=====>                                   ]  11.6 %>                              ]  23.8 %>                       ]  40.9 %======================>                  ]  53.2 %1 %>             ]  66.4 %================================>        ]  78.7 %  ]  94.5 %"
     ]
    },
    {
     "ename": "Pkg.Types.PkgError",
     "evalue": "The following package names could not be resolved:\n * Maxvol (not found in project, manifest or registry)\nPlease specify by known `name=uuid`.",
     "output_type": "error",
     "traceback": [
      "The following package names could not be resolved:\n * Maxvol (not found in project, manifest or registry)\nPlease specify by known `name=uuid`.",
      "",
      "Stacktrace:",
      " [1] pkgerror(::String) at /Users/sabae/buildbot/worker/package_macos64/build/usr/share/julia/stdlib/v1.2/Pkg/src/Types.jl:112",
      " [2] #ensure_resolved#107(::Bool, ::typeof(Pkg.Types.ensure_resolved), ::Pkg.Types.EnvCache, ::Array{Pkg.Types.PackageSpec,1}) at /Users/sabae/buildbot/worker/package_macos64/build/usr/share/julia/stdlib/v1.2/Pkg/src/Types.jl:910",
      " [3] #ensure_resolved at ./none:0 [inlined]",
      " [4] #add#25(::Bool, ::Base.Iterators.Pairs{Union{},Union{},Tuple{},NamedTuple{(),Tuple{}}}, ::typeof(Pkg.API.add), ::Pkg.Types.Context, ::Array{Pkg.Types.PackageSpec,1}) at /Users/sabae/buildbot/worker/package_macos64/build/usr/share/julia/stdlib/v1.2/Pkg/src/API.jl:94",
      " [5] add at /Users/sabae/buildbot/worker/package_macos64/build/usr/share/julia/stdlib/v1.2/Pkg/src/API.jl:69 [inlined]",
      " [6] #add#24 at /Users/sabae/buildbot/worker/package_macos64/build/usr/share/julia/stdlib/v1.2/Pkg/src/API.jl:67 [inlined]",
      " [7] add at /Users/sabae/buildbot/worker/package_macos64/build/usr/share/julia/stdlib/v1.2/Pkg/src/API.jl:67 [inlined]",
      " [8] #add#21 at /Users/sabae/buildbot/worker/package_macos64/build/usr/share/julia/stdlib/v1.2/Pkg/src/API.jl:65 [inlined]",
      " [9] add at /Users/sabae/buildbot/worker/package_macos64/build/usr/share/julia/stdlib/v1.2/Pkg/src/API.jl:65 [inlined]",
      " [10] #add#20(::Base.Iterators.Pairs{Union{},Union{},Tuple{},NamedTuple{(),Tuple{}}}, ::typeof(Pkg.API.add), ::String) at /Users/sabae/buildbot/worker/package_macos64/build/usr/share/julia/stdlib/v1.2/Pkg/src/API.jl:64",
      " [11] add(::String) at /Users/sabae/buildbot/worker/package_macos64/build/usr/share/julia/stdlib/v1.2/Pkg/src/API.jl:64",
      " [12] top-level scope at In[5]:1"
     ]
    }
   ],
   "source": [
    "Pkg.add(\"Maxvol\")"
   ]
  },
  {
   "cell_type": "code",
   "execution_count": null,
   "metadata": {},
   "outputs": [],
   "source": []
  }
 ],
 "metadata": {
  "kernelspec": {
   "display_name": "Julia 1.2.0",
   "language": "julia",
   "name": "julia-1.2"
  },
  "language_info": {
   "file_extension": ".jl",
   "mimetype": "application/julia",
   "name": "julia",
   "version": "1.2.0"
  }
 },
 "nbformat": 4,
 "nbformat_minor": 2
}
