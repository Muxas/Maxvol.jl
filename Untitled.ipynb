{
 "cells": [
  {
   "cell_type": "code",
   "execution_count": 1,
   "metadata": {},
   "outputs": [],
   "source": [
    "include(\"maxvol.jl\");"
   ]
  },
  {
   "cell_type": "code",
   "execution_count": 8,
   "metadata": {},
   "outputs": [
    {
     "name": "stdout",
     "output_type": "stream",
     "text": [
      "BigFloat\n",
      "BigFloat relative error 6.232733488646852818382026399517723547323364592421508343887871688467098665688882e-77\n",
      "BigFloat time  0.140044 seconds (1.65 M allocations: 88.576 MiB, 48.31% gc time)\n",
      "\n",
      "Float64\n",
      "Float64 relative error 6.557144176358414e-16\n",
      "Float64 time  0.000277 seconds (63 allocations: 117.813 KiB)\n",
      "\n",
      "Float32\n",
      "Float32 relative error 3.508981430664721e-7\n",
      "Float32 time  0.000468 seconds (71 allocations: 69.500 KiB)\n",
      "\n",
      "Float16\n",
      "Float16 relative error 0.002868002960075862\n",
      "Float16 time  0.009126 seconds (196 allocations: 82.297 KiB)\n",
      "\n",
      "Complex{BigFloat}\n",
      "Complex{BigFloat} relative error 6.857132358961870406451870949051483704051774854304749274510170965878164913776116e-77\n",
      "Complex{BigFloat} time  0.398361 seconds (5.98 M allocations: 305.449 MiB, 14.54% gc time)\n",
      "\n",
      "Complex{Float64}\n",
      "Complex{Float64} relative error 8.875872597551358e-16\n",
      "Complex{Float64} time  0.000428 seconds (59 allocations: 214.969 KiB)\n",
      "\n",
      "Complex{Float32}\n",
      "Complex{Float32} relative error 5.627223804994031e-7\n",
      "Complex{Float32} time  0.000591 seconds (75 allocations: 134.781 KiB)\n",
      "\n",
      "Complex{Float16}\n",
      "Complex{Float16} relative error 0.004339938680329877\n",
      "Complex{Float16} time  0.037293 seconds (202 allocations: 151.641 KiB)\n",
      "\n"
     ]
    }
   ],
   "source": [
    "for T in [BigFloat, Float64, Float32, Float16, Complex{BigFloat}, ComplexF64, ComplexF32, ComplexF16]\n",
    "    println(T)\n",
    "    A = rand(T, 300, 30)\n",
    "    B = deepcopy(A)\n",
    "    basis = maxvol!(B, 1.05, 100)\n",
    "    X = B*A[basis, :] - A\n",
    "    println(T, \" relative error \", (+(abs.(X).^2...) / +(abs.(A).^2...))^0.5)\n",
    "    print(T, \" time\")\n",
    "    @time maxvol!(deepcopy(A), 1.05, 100)\n",
    "    println()\n",
    "end"
   ]
  },
  {
   "cell_type": "code",
   "execution_count": 9,
   "metadata": {},
   "outputs": [
    {
     "data": {
      "text/html": [
       "# 6 methods for generic function <b>maxvol!</b>:<ul><li> maxvol!(A::<b>Array{T,2}</b>)<i> where T<:Union{Complex{Float32}, Complex{Float64}, Float32, Float64}</i> in Main at <a href=\"file:///Users/muxas/Code/maxvoljl/maxvol.jl\" target=\"_blank\">/Users/muxas/Code/maxvoljl/maxvol.jl:124</a></li> <li> maxvol!(A::<b>Array{T,2}</b>, tol::<b>Float64</b>)<i> where T<:Union{Complex{Float32}, Complex{Float64}, Float32, Float64}</i> in Main at <a href=\"file:///Users/muxas/Code/maxvoljl/maxvol.jl\" target=\"_blank\">/Users/muxas/Code/maxvoljl/maxvol.jl:124</a></li> <li> maxvol!(A::<b>Array{T,2}</b>, tol::<b>Float64</b>, maxiters::<b>Int64</b>)<i> where T<:Union{Complex{Float32}, Complex{Float64}, Float32, Float64}</i> in Main at <a href=\"file:///Users/muxas/Code/maxvoljl/maxvol.jl\" target=\"_blank\">/Users/muxas/Code/maxvoljl/maxvol.jl:124</a></li> <li> maxvol!(A::<b>Array{T,2}</b>)<i> where T<:Number</i> in Main at <a href=\"file:///Users/muxas/Code/maxvoljl/maxvol.jl\" target=\"_blank\">/Users/muxas/Code/maxvoljl/maxvol.jl:8</a></li> <li> maxvol!(A::<b>Array{T,2}</b>, tol::<b>Float64</b>)<i> where T<:Number</i> in Main at <a href=\"file:///Users/muxas/Code/maxvoljl/maxvol.jl\" target=\"_blank\">/Users/muxas/Code/maxvoljl/maxvol.jl:8</a></li> <li> maxvol!(A::<b>Array{T,2}</b>, tol::<b>Float64</b>, maxiters::<b>Int64</b>)<i> where T<:Number</i> in Main at <a href=\"file:///Users/muxas/Code/maxvoljl/maxvol.jl\" target=\"_blank\">/Users/muxas/Code/maxvoljl/maxvol.jl:8</a></li> </ul>"
      ],
      "text/plain": [
       "# 6 methods for generic function \"maxvol!\":\n",
       "[1] maxvol!(A::Array{T,2}) where T<:Union{Complex{Float32}, Complex{Float64}, Float32, Float64} in Main at /Users/muxas/Code/maxvoljl/maxvol.jl:124\n",
       "[2] maxvol!(A::Array{T,2}, tol::Float64) where T<:Union{Complex{Float32}, Complex{Float64}, Float32, Float64} in Main at /Users/muxas/Code/maxvoljl/maxvol.jl:124\n",
       "[3] maxvol!(A::Array{T,2}, tol::Float64, maxiters::Int64) where T<:Union{Complex{Float32}, Complex{Float64}, Float32, Float64} in Main at /Users/muxas/Code/maxvoljl/maxvol.jl:124\n",
       "[4] maxvol!(A::Array{T,2}) where T<:Number in Main at /Users/muxas/Code/maxvoljl/maxvol.jl:8\n",
       "[5] maxvol!(A::Array{T,2}, tol::Float64) where T<:Number in Main at /Users/muxas/Code/maxvoljl/maxvol.jl:8\n",
       "[6] maxvol!(A::Array{T,2}, tol::Float64, maxiters::Int64) where T<:Number in Main at /Users/muxas/Code/maxvoljl/maxvol.jl:8"
      ]
     },
     "execution_count": 9,
     "metadata": {},
     "output_type": "execute_result"
    }
   ],
   "source": [
    "methods(maxvol!)"
   ]
  },
  {
   "cell_type": "code",
   "execution_count": 2,
   "metadata": {},
   "outputs": [
    {
     "data": {
      "text/latex": [
       "LAPACK-based maxvol\n",
       "\n"
      ],
      "text/markdown": [
       "LAPACK-based maxvol\n"
      ],
      "text/plain": [
       "  LAPACK-based maxvol"
      ]
     },
     "execution_count": 2,
     "metadata": {},
     "output_type": "execute_result"
    }
   ],
   "source": [
    "@doc maxvol!(Matrix{Int})"
   ]
  },
  {
   "cell_type": "code",
   "execution_count": null,
   "metadata": {},
   "outputs": [],
   "source": []
  }
 ],
 "metadata": {
  "kernelspec": {
   "display_name": "Julia 1.3.0",
   "language": "julia",
   "name": "julia-1.3"
  },
  "language_info": {
   "file_extension": ".jl",
   "mimetype": "application/julia",
   "name": "julia",
   "version": "1.3.0"
  }
 },
 "nbformat": 4,
 "nbformat_minor": 2
}
